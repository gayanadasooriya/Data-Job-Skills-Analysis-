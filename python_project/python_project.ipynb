{
 "cells": [
  {
   "cell_type": "markdown",
   "metadata": {},
   "source": [
    "### Summary\n",
    "This case study will analyse a large dataset of data-related job listings from 2023 to find the most in-demand technical skills in New Zealand and Australia. It will also compare these findings with the global data. The purpose of this study is to:\n",
    "- find the most in-demand skills applicants should focus on learning prior to applying for a data-related job \n",
    "- find any additional skills an applicant may require if applying for jobs outside of Australasia. \n",
    "- how do the required skills compare between junior and senior positions \n",
    "- how the in-demand skills were trending throughout the year \n",
    "- which skills are paying the highest salaries (limited sample)\n",
    "\n",
    "In addition to the analysis on the required skills, this case study will also aim to find any trends in the number of job listing throughout the year \n"
   ]
  },
  {
   "cell_type": "code",
   "execution_count": 1,
   "metadata": {},
   "outputs": [
    {
     "name": "stderr",
     "output_type": "stream",
     "text": [
      "c:\\Users\\gayan\\anaconda3\\envs\\python_1\\Lib\\site-packages\\tqdm\\auto.py:21: TqdmWarning: IProgress not found. Please update jupyter and ipywidgets. See https://ipywidgets.readthedocs.io/en/stable/user_install.html\n",
      "  from .autonotebook import tqdm as notebook_tqdm\n"
     ]
    }
   ],
   "source": [
    "# Importing the required packages\n",
    "\n",
    "import pandas as pd\n",
    "import matplotlib.pyplot as plt \n",
    "import seaborn as sns\n",
    "from datasets import load_dataset"
   ]
  },
  {
   "cell_type": "code",
   "execution_count": 2,
   "metadata": {},
   "outputs": [
    {
     "name": "stdout",
     "output_type": "stream",
     "text": [
      "DatasetDict({\n",
      "    train: Dataset({\n",
      "        features: ['job_title_short', 'job_title', 'job_location', 'job_via', 'job_schedule_type', 'job_work_from_home', 'search_location', 'job_posted_date', 'job_no_degree_mention', 'job_health_insurance', 'job_country', 'salary_rate', 'salary_year_avg', 'salary_hour_avg', 'company_name', 'job_skills', 'job_type_skills'],\n",
      "        num_rows: 785741\n",
      "    })\n",
      "})\n"
     ]
    }
   ],
   "source": [
    "# Importing the data from the source (Huggingface)\n",
    "dataset_dict = load_dataset('lukebarousse/data_jobs')\n",
    "print(dataset_dict)"
   ]
  },
  {
   "cell_type": "code",
   "execution_count": 3,
   "metadata": {},
   "outputs": [],
   "source": [
    "# Retrieving the dataset from the 'train' key in the dictionary \n",
    "df = dataset_dict['train'].to_pandas()"
   ]
  },
  {
   "cell_type": "code",
   "execution_count": 4,
   "metadata": {},
   "outputs": [
    {
     "name": "stdout",
     "output_type": "stream",
     "text": [
      "<class 'pandas.core.frame.DataFrame'>\n",
      "RangeIndex: 785741 entries, 0 to 785740\n",
      "Data columns (total 17 columns):\n",
      " #   Column                 Non-Null Count   Dtype  \n",
      "---  ------                 --------------   -----  \n",
      " 0   job_title_short        785741 non-null  object \n",
      " 1   job_title              785740 non-null  object \n",
      " 2   job_location           784696 non-null  object \n",
      " 3   job_via                785733 non-null  object \n",
      " 4   job_schedule_type      773074 non-null  object \n",
      " 5   job_work_from_home     785741 non-null  bool   \n",
      " 6   search_location        785741 non-null  object \n",
      " 7   job_posted_date        785741 non-null  object \n",
      " 8   job_no_degree_mention  785741 non-null  bool   \n",
      " 9   job_health_insurance   785741 non-null  bool   \n",
      " 10  job_country            785692 non-null  object \n",
      " 11  salary_rate            33067 non-null   object \n",
      " 12  salary_year_avg        22003 non-null   float64\n",
      " 13  salary_hour_avg        10662 non-null   float64\n",
      " 14  company_name           785723 non-null  object \n",
      " 15  job_skills             668704 non-null  object \n",
      " 16  job_type_skills        668704 non-null  object \n",
      "dtypes: bool(3), float64(2), object(12)\n",
      "memory usage: 86.2+ MB\n"
     ]
    }
   ],
   "source": [
    "# Summary of the dataset\n",
    "df.info()"
   ]
  },
  {
   "cell_type": "code",
   "execution_count": 5,
   "metadata": {},
   "outputs": [
    {
     "data": {
      "text/html": [
       "<div>\n",
       "<style scoped>\n",
       "    .dataframe tbody tr th:only-of-type {\n",
       "        vertical-align: middle;\n",
       "    }\n",
       "\n",
       "    .dataframe tbody tr th {\n",
       "        vertical-align: top;\n",
       "    }\n",
       "\n",
       "    .dataframe thead th {\n",
       "        text-align: right;\n",
       "    }\n",
       "</style>\n",
       "<table border=\"1\" class=\"dataframe\">\n",
       "  <thead>\n",
       "    <tr style=\"text-align: right;\">\n",
       "      <th></th>\n",
       "      <th>job_title_short</th>\n",
       "      <th>job_title</th>\n",
       "      <th>job_location</th>\n",
       "      <th>job_via</th>\n",
       "      <th>job_schedule_type</th>\n",
       "      <th>job_work_from_home</th>\n",
       "      <th>search_location</th>\n",
       "      <th>job_posted_date</th>\n",
       "      <th>job_no_degree_mention</th>\n",
       "      <th>job_health_insurance</th>\n",
       "      <th>job_country</th>\n",
       "      <th>salary_rate</th>\n",
       "      <th>salary_year_avg</th>\n",
       "      <th>salary_hour_avg</th>\n",
       "      <th>company_name</th>\n",
       "      <th>job_skills</th>\n",
       "      <th>job_type_skills</th>\n",
       "    </tr>\n",
       "  </thead>\n",
       "  <tbody>\n",
       "    <tr>\n",
       "      <th>0</th>\n",
       "      <td>Senior Data Engineer</td>\n",
       "      <td>Senior Clinical Data Engineer / Principal Clin...</td>\n",
       "      <td>Watertown, CT</td>\n",
       "      <td>via Work Nearby</td>\n",
       "      <td>Full-time</td>\n",
       "      <td>False</td>\n",
       "      <td>Texas, United States</td>\n",
       "      <td>2023-06-16 13:44:15</td>\n",
       "      <td>False</td>\n",
       "      <td>False</td>\n",
       "      <td>United States</td>\n",
       "      <td>None</td>\n",
       "      <td>NaN</td>\n",
       "      <td>NaN</td>\n",
       "      <td>Boehringer Ingelheim</td>\n",
       "      <td>None</td>\n",
       "      <td>None</td>\n",
       "    </tr>\n",
       "    <tr>\n",
       "      <th>1</th>\n",
       "      <td>Data Analyst</td>\n",
       "      <td>Data Analyst</td>\n",
       "      <td>Guadalajara, Jalisco, Mexico</td>\n",
       "      <td>via BeBee México</td>\n",
       "      <td>Full-time</td>\n",
       "      <td>False</td>\n",
       "      <td>Mexico</td>\n",
       "      <td>2023-01-14 13:18:07</td>\n",
       "      <td>False</td>\n",
       "      <td>False</td>\n",
       "      <td>Mexico</td>\n",
       "      <td>None</td>\n",
       "      <td>NaN</td>\n",
       "      <td>NaN</td>\n",
       "      <td>Hewlett Packard Enterprise</td>\n",
       "      <td>['r', 'python', 'sql', 'nosql', 'power bi', 't...</td>\n",
       "      <td>{'analyst_tools': ['power bi', 'tableau'], 'pr...</td>\n",
       "    </tr>\n",
       "    <tr>\n",
       "      <th>2</th>\n",
       "      <td>Data Engineer</td>\n",
       "      <td>Data Engineer/Scientist/Analyst, Mid or Senior...</td>\n",
       "      <td>Berlin, Germany</td>\n",
       "      <td>via LinkedIn</td>\n",
       "      <td>Full-time</td>\n",
       "      <td>False</td>\n",
       "      <td>Germany</td>\n",
       "      <td>2023-10-10 13:14:55</td>\n",
       "      <td>False</td>\n",
       "      <td>False</td>\n",
       "      <td>Germany</td>\n",
       "      <td>None</td>\n",
       "      <td>NaN</td>\n",
       "      <td>NaN</td>\n",
       "      <td>ALPHA Augmented Services</td>\n",
       "      <td>['python', 'sql', 'c#', 'azure', 'airflow', 'd...</td>\n",
       "      <td>{'analyst_tools': ['dax'], 'cloud': ['azure'],...</td>\n",
       "    </tr>\n",
       "  </tbody>\n",
       "</table>\n",
       "</div>"
      ],
      "text/plain": [
       "        job_title_short                                          job_title  \\\n",
       "0  Senior Data Engineer  Senior Clinical Data Engineer / Principal Clin...   \n",
       "1          Data Analyst                                       Data Analyst   \n",
       "2         Data Engineer  Data Engineer/Scientist/Analyst, Mid or Senior...   \n",
       "\n",
       "                   job_location           job_via job_schedule_type  \\\n",
       "0                 Watertown, CT   via Work Nearby         Full-time   \n",
       "1  Guadalajara, Jalisco, Mexico  via BeBee México         Full-time   \n",
       "2               Berlin, Germany      via LinkedIn         Full-time   \n",
       "\n",
       "   job_work_from_home       search_location      job_posted_date  \\\n",
       "0               False  Texas, United States  2023-06-16 13:44:15   \n",
       "1               False                Mexico  2023-01-14 13:18:07   \n",
       "2               False               Germany  2023-10-10 13:14:55   \n",
       "\n",
       "   job_no_degree_mention  job_health_insurance    job_country salary_rate  \\\n",
       "0                  False                 False  United States        None   \n",
       "1                  False                 False         Mexico        None   \n",
       "2                  False                 False        Germany        None   \n",
       "\n",
       "   salary_year_avg  salary_hour_avg                company_name  \\\n",
       "0              NaN              NaN        Boehringer Ingelheim   \n",
       "1              NaN              NaN  Hewlett Packard Enterprise   \n",
       "2              NaN              NaN    ALPHA Augmented Services   \n",
       "\n",
       "                                          job_skills  \\\n",
       "0                                               None   \n",
       "1  ['r', 'python', 'sql', 'nosql', 'power bi', 't...   \n",
       "2  ['python', 'sql', 'c#', 'azure', 'airflow', 'd...   \n",
       "\n",
       "                                     job_type_skills  \n",
       "0                                               None  \n",
       "1  {'analyst_tools': ['power bi', 'tableau'], 'pr...  \n",
       "2  {'analyst_tools': ['dax'], 'cloud': ['azure'],...  "
      ]
     },
     "execution_count": 5,
     "metadata": {},
     "output_type": "execute_result"
    }
   ],
   "source": [
    "# Preview the dataset\n",
    "df.head(3)"
   ]
  },
  {
   "cell_type": "code",
   "execution_count": 6,
   "metadata": {},
   "outputs": [
    {
     "data": {
      "text/plain": [
       "0"
      ]
     },
     "execution_count": 6,
     "metadata": {},
     "output_type": "execute_result"
    }
   ],
   "source": [
    "# Dropping the duplicate rows \n",
    "df.drop_duplicates(inplace = True)\n",
    "df.duplicated().sum()"
   ]
  },
  {
   "cell_type": "code",
   "execution_count": 7,
   "metadata": {},
   "outputs": [],
   "source": [
    "# Coverting the job_post_date into datetime type \n",
    "df['job_posted_date'] = pd.to_datetime(df['job_posted_date'])"
   ]
  },
  {
   "cell_type": "code",
   "execution_count": 8,
   "metadata": {},
   "outputs": [],
   "source": [
    "# Assigning a nama to the df index\n",
    "df.index.name = 'job_index'"
   ]
  },
  {
   "cell_type": "code",
   "execution_count": 9,
   "metadata": {},
   "outputs": [
    {
     "name": "stdout",
     "output_type": "stream",
     "text": [
      "<class 'pandas.core.frame.DataFrame'>\n",
      "Index: 15409 entries, 90 to 785687\n",
      "Data columns (total 17 columns):\n",
      " #   Column                 Non-Null Count  Dtype         \n",
      "---  ------                 --------------  -----         \n",
      " 0   job_title_short        15409 non-null  object        \n",
      " 1   job_title              15409 non-null  object        \n",
      " 2   job_location           15408 non-null  object        \n",
      " 3   job_via                15409 non-null  object        \n",
      " 4   job_schedule_type      15280 non-null  object        \n",
      " 5   job_work_from_home     15409 non-null  bool          \n",
      " 6   search_location        15409 non-null  object        \n",
      " 7   job_posted_date        15409 non-null  datetime64[ns]\n",
      " 8   job_no_degree_mention  15409 non-null  bool          \n",
      " 9   job_health_insurance   15409 non-null  bool          \n",
      " 10  job_country            15409 non-null  object        \n",
      " 11  salary_rate            189 non-null    object        \n",
      " 12  salary_year_avg        102 non-null    float64       \n",
      " 13  salary_hour_avg        82 non-null     float64       \n",
      " 14  company_name           15409 non-null  object        \n",
      " 15  job_skills             12988 non-null  object        \n",
      " 16  job_type_skills        12988 non-null  object        \n",
      "dtypes: bool(3), datetime64[ns](1), float64(2), object(11)\n",
      "memory usage: 1.8+ MB\n"
     ]
    }
   ],
   "source": [
    "# Creating a new filtered dataset with job postings from New Zealand and Australia\n",
    "df_anz = df[df['job_country'].isin(['Australia', 'New Zealand'])]\n",
    "df_anz.info()"
   ]
  },
  {
   "cell_type": "code",
   "execution_count": 10,
   "metadata": {},
   "outputs": [
    {
     "data": {
      "text/html": [
       "<div>\n",
       "<style scoped>\n",
       "    .dataframe tbody tr th:only-of-type {\n",
       "        vertical-align: middle;\n",
       "    }\n",
       "\n",
       "    .dataframe tbody tr th {\n",
       "        vertical-align: top;\n",
       "    }\n",
       "\n",
       "    .dataframe thead th {\n",
       "        text-align: right;\n",
       "    }\n",
       "</style>\n",
       "<table border=\"1\" class=\"dataframe\">\n",
       "  <thead>\n",
       "    <tr style=\"text-align: right;\">\n",
       "      <th></th>\n",
       "      <th>job_title_short</th>\n",
       "      <th>job_title</th>\n",
       "      <th>job_location</th>\n",
       "      <th>job_via</th>\n",
       "      <th>job_schedule_type</th>\n",
       "      <th>job_work_from_home</th>\n",
       "      <th>search_location</th>\n",
       "      <th>job_posted_date</th>\n",
       "      <th>job_no_degree_mention</th>\n",
       "      <th>job_health_insurance</th>\n",
       "      <th>job_country</th>\n",
       "      <th>salary_rate</th>\n",
       "      <th>salary_year_avg</th>\n",
       "      <th>salary_hour_avg</th>\n",
       "      <th>company_name</th>\n",
       "      <th>job_skills</th>\n",
       "      <th>job_type_skills</th>\n",
       "    </tr>\n",
       "    <tr>\n",
       "      <th>job_index</th>\n",
       "      <th></th>\n",
       "      <th></th>\n",
       "      <th></th>\n",
       "      <th></th>\n",
       "      <th></th>\n",
       "      <th></th>\n",
       "      <th></th>\n",
       "      <th></th>\n",
       "      <th></th>\n",
       "      <th></th>\n",
       "      <th></th>\n",
       "      <th></th>\n",
       "      <th></th>\n",
       "      <th></th>\n",
       "      <th></th>\n",
       "      <th></th>\n",
       "      <th></th>\n",
       "    </tr>\n",
       "  </thead>\n",
       "  <tbody>\n",
       "    <tr>\n",
       "      <th>90</th>\n",
       "      <td>Data Scientist</td>\n",
       "      <td>Data Scientist</td>\n",
       "      <td>Australia</td>\n",
       "      <td>via BeBee Australia</td>\n",
       "      <td>Full-time</td>\n",
       "      <td>False</td>\n",
       "      <td>Australia</td>\n",
       "      <td>2023-11-25 13:12:03</td>\n",
       "      <td>False</td>\n",
       "      <td>False</td>\n",
       "      <td>Australia</td>\n",
       "      <td>None</td>\n",
       "      <td>NaN</td>\n",
       "      <td>NaN</td>\n",
       "      <td>Concurrent Technologies Corporation</td>\n",
       "      <td>['python', 'sql', 'r', 'java', 'bash', 'react'...</td>\n",
       "      <td>{'analyst_tools': ['tableau'], 'libraries': ['...</td>\n",
       "    </tr>\n",
       "    <tr>\n",
       "      <th>267</th>\n",
       "      <td>Software Engineer</td>\n",
       "      <td>Senior Developer</td>\n",
       "      <td>Wellington, New Zealand</td>\n",
       "      <td>via Jobs Trabajo.org</td>\n",
       "      <td>Full-time</td>\n",
       "      <td>False</td>\n",
       "      <td>New Zealand</td>\n",
       "      <td>2023-10-27 13:52:02</td>\n",
       "      <td>True</td>\n",
       "      <td>False</td>\n",
       "      <td>New Zealand</td>\n",
       "      <td>None</td>\n",
       "      <td>NaN</td>\n",
       "      <td>NaN</td>\n",
       "      <td>New Zealand Government</td>\n",
       "      <td>['python', 'ruby', 'ruby', 'sql', 'postgresql'...</td>\n",
       "      <td>{'cloud': ['redshift'], 'databases': ['postgre...</td>\n",
       "    </tr>\n",
       "    <tr>\n",
       "      <th>311</th>\n",
       "      <td>Data Scientist</td>\n",
       "      <td>Geospatial Intelligence Analyst</td>\n",
       "      <td>Wellington, New Zealand</td>\n",
       "      <td>via Jobs Trabajo.org</td>\n",
       "      <td>Full-time</td>\n",
       "      <td>False</td>\n",
       "      <td>New Zealand</td>\n",
       "      <td>2023-10-27 13:51:37</td>\n",
       "      <td>True</td>\n",
       "      <td>False</td>\n",
       "      <td>New Zealand</td>\n",
       "      <td>None</td>\n",
       "      <td>NaN</td>\n",
       "      <td>NaN</td>\n",
       "      <td>Fire and Emergency New Zealand</td>\n",
       "      <td>['python', 'sql', 'sql server']</td>\n",
       "      <td>{'databases': ['sql server'], 'programming': [...</td>\n",
       "    </tr>\n",
       "  </tbody>\n",
       "</table>\n",
       "</div>"
      ],
      "text/plain": [
       "             job_title_short                        job_title  \\\n",
       "job_index                                                       \n",
       "90            Data Scientist                   Data Scientist   \n",
       "267        Software Engineer                 Senior Developer   \n",
       "311           Data Scientist  Geospatial Intelligence Analyst   \n",
       "\n",
       "                      job_location               job_via job_schedule_type  \\\n",
       "job_index                                                                    \n",
       "90                       Australia   via BeBee Australia         Full-time   \n",
       "267        Wellington, New Zealand  via Jobs Trabajo.org         Full-time   \n",
       "311        Wellington, New Zealand  via Jobs Trabajo.org         Full-time   \n",
       "\n",
       "           job_work_from_home search_location     job_posted_date  \\\n",
       "job_index                                                           \n",
       "90                      False       Australia 2023-11-25 13:12:03   \n",
       "267                     False     New Zealand 2023-10-27 13:52:02   \n",
       "311                     False     New Zealand 2023-10-27 13:51:37   \n",
       "\n",
       "           job_no_degree_mention  job_health_insurance  job_country  \\\n",
       "job_index                                                             \n",
       "90                         False                 False    Australia   \n",
       "267                         True                 False  New Zealand   \n",
       "311                         True                 False  New Zealand   \n",
       "\n",
       "          salary_rate  salary_year_avg  salary_hour_avg  \\\n",
       "job_index                                                 \n",
       "90               None              NaN              NaN   \n",
       "267              None              NaN              NaN   \n",
       "311              None              NaN              NaN   \n",
       "\n",
       "                                  company_name  \\\n",
       "job_index                                        \n",
       "90         Concurrent Technologies Corporation   \n",
       "267                     New Zealand Government   \n",
       "311             Fire and Emergency New Zealand   \n",
       "\n",
       "                                                  job_skills  \\\n",
       "job_index                                                      \n",
       "90         ['python', 'sql', 'r', 'java', 'bash', 'react'...   \n",
       "267        ['python', 'ruby', 'ruby', 'sql', 'postgresql'...   \n",
       "311                          ['python', 'sql', 'sql server']   \n",
       "\n",
       "                                             job_type_skills  \n",
       "job_index                                                     \n",
       "90         {'analyst_tools': ['tableau'], 'libraries': ['...  \n",
       "267        {'cloud': ['redshift'], 'databases': ['postgre...  \n",
       "311        {'databases': ['sql server'], 'programming': [...  "
      ]
     },
     "execution_count": 10,
     "metadata": {},
     "output_type": "execute_result"
    }
   ],
   "source": [
    "df_anz.head(3)"
   ]
  },
  {
   "cell_type": "code",
   "execution_count": 11,
   "metadata": {},
   "outputs": [
    {
     "data": {
      "text/html": [
       "<div>\n",
       "<style scoped>\n",
       "    .dataframe tbody tr th:only-of-type {\n",
       "        vertical-align: middle;\n",
       "    }\n",
       "\n",
       "    .dataframe tbody tr th {\n",
       "        vertical-align: top;\n",
       "    }\n",
       "\n",
       "    .dataframe thead th {\n",
       "        text-align: right;\n",
       "    }\n",
       "</style>\n",
       "<table border=\"1\" class=\"dataframe\">\n",
       "  <thead>\n",
       "    <tr style=\"text-align: right;\">\n",
       "      <th></th>\n",
       "      <th>job_index</th>\n",
       "      <th>job_title_short</th>\n",
       "      <th>job_title</th>\n",
       "      <th>job_location</th>\n",
       "      <th>job_via</th>\n",
       "      <th>job_schedule_type</th>\n",
       "      <th>job_work_from_home</th>\n",
       "      <th>search_location</th>\n",
       "      <th>job_posted_date</th>\n",
       "      <th>job_no_degree_mention</th>\n",
       "      <th>job_health_insurance</th>\n",
       "      <th>job_country</th>\n",
       "      <th>salary_rate</th>\n",
       "      <th>salary_year_avg</th>\n",
       "      <th>salary_hour_avg</th>\n",
       "      <th>company_name</th>\n",
       "      <th>job_skills</th>\n",
       "      <th>job_type_skills</th>\n",
       "    </tr>\n",
       "  </thead>\n",
       "  <tbody>\n",
       "    <tr>\n",
       "      <th>0</th>\n",
       "      <td>90</td>\n",
       "      <td>Data Scientist</td>\n",
       "      <td>Data Scientist</td>\n",
       "      <td>Australia</td>\n",
       "      <td>via BeBee Australia</td>\n",
       "      <td>Full-time</td>\n",
       "      <td>False</td>\n",
       "      <td>Australia</td>\n",
       "      <td>2023-11-25 13:12:03</td>\n",
       "      <td>False</td>\n",
       "      <td>False</td>\n",
       "      <td>Australia</td>\n",
       "      <td>None</td>\n",
       "      <td>NaN</td>\n",
       "      <td>NaN</td>\n",
       "      <td>Concurrent Technologies Corporation</td>\n",
       "      <td>['python', 'sql', 'r', 'java', 'bash', 'react'...</td>\n",
       "      <td>{'analyst_tools': ['tableau'], 'libraries': ['...</td>\n",
       "    </tr>\n",
       "    <tr>\n",
       "      <th>1</th>\n",
       "      <td>267</td>\n",
       "      <td>Software Engineer</td>\n",
       "      <td>Senior Developer</td>\n",
       "      <td>Wellington, New Zealand</td>\n",
       "      <td>via Jobs Trabajo.org</td>\n",
       "      <td>Full-time</td>\n",
       "      <td>False</td>\n",
       "      <td>New Zealand</td>\n",
       "      <td>2023-10-27 13:52:02</td>\n",
       "      <td>True</td>\n",
       "      <td>False</td>\n",
       "      <td>New Zealand</td>\n",
       "      <td>None</td>\n",
       "      <td>NaN</td>\n",
       "      <td>NaN</td>\n",
       "      <td>New Zealand Government</td>\n",
       "      <td>['python', 'ruby', 'ruby', 'sql', 'postgresql'...</td>\n",
       "      <td>{'cloud': ['redshift'], 'databases': ['postgre...</td>\n",
       "    </tr>\n",
       "    <tr>\n",
       "      <th>2</th>\n",
       "      <td>311</td>\n",
       "      <td>Data Scientist</td>\n",
       "      <td>Geospatial Intelligence Analyst</td>\n",
       "      <td>Wellington, New Zealand</td>\n",
       "      <td>via Jobs Trabajo.org</td>\n",
       "      <td>Full-time</td>\n",
       "      <td>False</td>\n",
       "      <td>New Zealand</td>\n",
       "      <td>2023-10-27 13:51:37</td>\n",
       "      <td>True</td>\n",
       "      <td>False</td>\n",
       "      <td>New Zealand</td>\n",
       "      <td>None</td>\n",
       "      <td>NaN</td>\n",
       "      <td>NaN</td>\n",
       "      <td>Fire and Emergency New Zealand</td>\n",
       "      <td>['python', 'sql', 'sql server']</td>\n",
       "      <td>{'databases': ['sql server'], 'programming': [...</td>\n",
       "    </tr>\n",
       "    <tr>\n",
       "      <th>3</th>\n",
       "      <td>501</td>\n",
       "      <td>Software Engineer</td>\n",
       "      <td>Senior Engineer - Platform Engineering</td>\n",
       "      <td>Sydney NSW, Australia</td>\n",
       "      <td>via LinkedIn</td>\n",
       "      <td>Full-time</td>\n",
       "      <td>False</td>\n",
       "      <td>Australia</td>\n",
       "      <td>2023-04-01 13:10:30</td>\n",
       "      <td>False</td>\n",
       "      <td>False</td>\n",
       "      <td>Australia</td>\n",
       "      <td>None</td>\n",
       "      <td>NaN</td>\n",
       "      <td>NaN</td>\n",
       "      <td>Slalom Build</td>\n",
       "      <td>['aws', 'chef', 'puppet', 'ansible', 'terraform']</td>\n",
       "      <td>{'cloud': ['aws'], 'other': ['chef', 'puppet',...</td>\n",
       "    </tr>\n",
       "    <tr>\n",
       "      <th>4</th>\n",
       "      <td>758</td>\n",
       "      <td>Senior Data Engineer</td>\n",
       "      <td>Senior Data Engineer</td>\n",
       "      <td>Sydney NSW, Australia</td>\n",
       "      <td>via Trabajo.org</td>\n",
       "      <td>Full-time</td>\n",
       "      <td>False</td>\n",
       "      <td>Australia</td>\n",
       "      <td>2023-03-18 13:15:07</td>\n",
       "      <td>True</td>\n",
       "      <td>False</td>\n",
       "      <td>Australia</td>\n",
       "      <td>None</td>\n",
       "      <td>NaN</td>\n",
       "      <td>NaN</td>\n",
       "      <td>Mirvac</td>\n",
       "      <td>['aws', 'snowflake', 'azure']</td>\n",
       "      <td>{'cloud': ['aws', 'snowflake', 'azure']}</td>\n",
       "    </tr>\n",
       "  </tbody>\n",
       "</table>\n",
       "</div>"
      ],
      "text/plain": [
       "   job_index       job_title_short                               job_title  \\\n",
       "0         90        Data Scientist                          Data Scientist   \n",
       "1        267     Software Engineer                        Senior Developer   \n",
       "2        311        Data Scientist         Geospatial Intelligence Analyst   \n",
       "3        501     Software Engineer  Senior Engineer - Platform Engineering   \n",
       "4        758  Senior Data Engineer                    Senior Data Engineer   \n",
       "\n",
       "              job_location               job_via job_schedule_type  \\\n",
       "0                Australia   via BeBee Australia         Full-time   \n",
       "1  Wellington, New Zealand  via Jobs Trabajo.org         Full-time   \n",
       "2  Wellington, New Zealand  via Jobs Trabajo.org         Full-time   \n",
       "3    Sydney NSW, Australia          via LinkedIn         Full-time   \n",
       "4    Sydney NSW, Australia       via Trabajo.org         Full-time   \n",
       "\n",
       "   job_work_from_home search_location     job_posted_date  \\\n",
       "0               False       Australia 2023-11-25 13:12:03   \n",
       "1               False     New Zealand 2023-10-27 13:52:02   \n",
       "2               False     New Zealand 2023-10-27 13:51:37   \n",
       "3               False       Australia 2023-04-01 13:10:30   \n",
       "4               False       Australia 2023-03-18 13:15:07   \n",
       "\n",
       "   job_no_degree_mention  job_health_insurance  job_country salary_rate  \\\n",
       "0                  False                 False    Australia        None   \n",
       "1                   True                 False  New Zealand        None   \n",
       "2                   True                 False  New Zealand        None   \n",
       "3                  False                 False    Australia        None   \n",
       "4                   True                 False    Australia        None   \n",
       "\n",
       "   salary_year_avg  salary_hour_avg                         company_name  \\\n",
       "0              NaN              NaN  Concurrent Technologies Corporation   \n",
       "1              NaN              NaN               New Zealand Government   \n",
       "2              NaN              NaN       Fire and Emergency New Zealand   \n",
       "3              NaN              NaN                         Slalom Build   \n",
       "4              NaN              NaN                               Mirvac   \n",
       "\n",
       "                                          job_skills  \\\n",
       "0  ['python', 'sql', 'r', 'java', 'bash', 'react'...   \n",
       "1  ['python', 'ruby', 'ruby', 'sql', 'postgresql'...   \n",
       "2                    ['python', 'sql', 'sql server']   \n",
       "3  ['aws', 'chef', 'puppet', 'ansible', 'terraform']   \n",
       "4                      ['aws', 'snowflake', 'azure']   \n",
       "\n",
       "                                     job_type_skills  \n",
       "0  {'analyst_tools': ['tableau'], 'libraries': ['...  \n",
       "1  {'cloud': ['redshift'], 'databases': ['postgre...  \n",
       "2  {'databases': ['sql server'], 'programming': [...  \n",
       "3  {'cloud': ['aws'], 'other': ['chef', 'puppet',...  \n",
       "4           {'cloud': ['aws', 'snowflake', 'azure']}  "
      ]
     },
     "execution_count": 11,
     "metadata": {},
     "output_type": "execute_result"
    }
   ],
   "source": [
    "# Resetting the index for df_anz\n",
    "df_anz.reset_index(inplace = True)\n",
    "df_anz.head()"
   ]
  },
  {
   "cell_type": "code",
   "execution_count": 12,
   "metadata": {},
   "outputs": [
    {
     "data": {
      "text/plain": [
       "search_location\n",
       "Australia      12948\n",
       "New Zealand     2461\n",
       "Name: count, dtype: int64"
      ]
     },
     "execution_count": 12,
     "metadata": {},
     "output_type": "execute_result"
    }
   ],
   "source": [
    "# Locations of job postings \n",
    "df_anz['search_location'].value_counts()"
   ]
  },
  {
   "cell_type": "code",
   "execution_count": 13,
   "metadata": {},
   "outputs": [
    {
     "name": "stderr",
     "output_type": "stream",
     "text": [
      "C:\\Users\\gayan\\AppData\\Local\\Temp\\ipykernel_20152\\605541331.py:2: UserWarning: Boolean Series key will be reindexed to match DataFrame index.\n",
      "  anz_data_analyst = df_anz[(df_anz['job_title_short'] == 'Data Analyst') | (df['job_title_short'] == 'Data Scientist')]\n"
     ]
    },
    {
     "data": {
      "text/plain": [
       "search_location\n",
       "Australia      4019\n",
       "New Zealand     920\n",
       "Name: count, dtype: int64"
      ]
     },
     "execution_count": 13,
     "metadata": {},
     "output_type": "execute_result"
    }
   ],
   "source": [
    "# Number of data analyst jobs in the database for each location \n",
    "anz_data_analyst = df_anz[(df_anz['job_title_short'] == 'Data Analyst') | (df['job_title_short'] == 'Data Scientist')]\n",
    "anz_data_analyst['search_location'].value_counts()"
   ]
  },
  {
   "cell_type": "code",
   "execution_count": 14,
   "metadata": {},
   "outputs": [
    {
     "data": {
      "text/html": [
       "<div>\n",
       "<style scoped>\n",
       "    .dataframe tbody tr th:only-of-type {\n",
       "        vertical-align: middle;\n",
       "    }\n",
       "\n",
       "    .dataframe tbody tr th {\n",
       "        vertical-align: top;\n",
       "    }\n",
       "\n",
       "    .dataframe thead th {\n",
       "        text-align: right;\n",
       "    }\n",
       "</style>\n",
       "<table border=\"1\" class=\"dataframe\">\n",
       "  <thead>\n",
       "    <tr style=\"text-align: right;\">\n",
       "      <th></th>\n",
       "      <th>count</th>\n",
       "    </tr>\n",
       "    <tr>\n",
       "      <th>job_title_short</th>\n",
       "      <th></th>\n",
       "    </tr>\n",
       "  </thead>\n",
       "  <tbody>\n",
       "    <tr>\n",
       "      <th>Data Engineer</th>\n",
       "      <td>5067</td>\n",
       "    </tr>\n",
       "    <tr>\n",
       "      <th>Data Analyst</th>\n",
       "      <td>2202</td>\n",
       "    </tr>\n",
       "    <tr>\n",
       "      <th>Software Engineer</th>\n",
       "      <td>1875</td>\n",
       "    </tr>\n",
       "    <tr>\n",
       "      <th>Senior Data Engineer</th>\n",
       "      <td>1660</td>\n",
       "    </tr>\n",
       "    <tr>\n",
       "      <th>Data Scientist</th>\n",
       "      <td>1511</td>\n",
       "    </tr>\n",
       "    <tr>\n",
       "      <th>Business Analyst</th>\n",
       "      <td>1227</td>\n",
       "    </tr>\n",
       "    <tr>\n",
       "      <th>Cloud Engineer</th>\n",
       "      <td>556</td>\n",
       "    </tr>\n",
       "    <tr>\n",
       "      <th>Senior Data Analyst</th>\n",
       "      <td>485</td>\n",
       "    </tr>\n",
       "    <tr>\n",
       "      <th>Senior Data Scientist</th>\n",
       "      <td>418</td>\n",
       "    </tr>\n",
       "    <tr>\n",
       "      <th>Machine Learning Engineer</th>\n",
       "      <td>408</td>\n",
       "    </tr>\n",
       "  </tbody>\n",
       "</table>\n",
       "</div>"
      ],
      "text/plain": [
       "                           count\n",
       "job_title_short                 \n",
       "Data Engineer               5067\n",
       "Data Analyst                2202\n",
       "Software Engineer           1875\n",
       "Senior Data Engineer        1660\n",
       "Data Scientist              1511\n",
       "Business Analyst            1227\n",
       "Cloud Engineer               556\n",
       "Senior Data Analyst          485\n",
       "Senior Data Scientist        418\n",
       "Machine Learning Engineer    408"
      ]
     },
     "execution_count": 14,
     "metadata": {},
     "output_type": "execute_result"
    }
   ],
   "source": [
    "# Breakdown of the job listings numbers according to job title\n",
    "job_title_counts = df_anz['job_title_short'].value_counts().to_frame()\n",
    "job_title_counts"
   ]
  },
  {
   "cell_type": "code",
   "execution_count": 15,
   "metadata": {},
   "outputs": [
    {
     "data": {
      "image/png": "[encoded data removed]",
      "text/plain": [
       "<Figure size 640x480 with 1 Axes>"
      ]
     },
     "metadata": {},
     "output_type": "display_data"
    }
   ],
   "source": [
    "sns.set_theme(style = 'ticks')\n",
    "sns.barplot(data=job_title_counts, x='count', y='job_title_short', hue = 'count', legend = False)\n",
    "sns.despine()  \n",
    "plt.xlabel(\"Count\")\n",
    "plt.ylabel(\"Job Title\")\n",
    "plt.title(\"Number of Advertised Jobs\")\n",
    "plt.show()"
   ]
  },
  {
   "cell_type": "code",
   "execution_count": 16,
   "metadata": {},
   "outputs": [
    {
     "data": {
      "image/png": "[encoded data removed]",
      "text/plain": [
       "<Figure size 640x480 with 1 Axes>"
      ]
     },
     "metadata": {},
     "output_type": "display_data"
    }
   ],
   "source": [
    "# How many of the jobs offer at least some work from home?\n",
    "pie_chart = df_anz ['job_work_from_home'].value_counts()\n",
    "colors = sns.color_palette(\"PuBu\", len(pie_chart))\n",
    "pie_chart.plot(kind= 'pie', colors = colors, startangle = 90, autopct ='%1.1f%%')\n",
    "plt.title('Work From Home Status')\n",
    "plt.ylabel('')\n",
    "plt.show()\n"
   ]
  },
  {
   "cell_type": "code",
   "execution_count": 17,
   "metadata": {},
   "outputs": [
    {
     "data": {
      "image/png": "[encoded data removed]",
      "text/plain": [
       "<Figure size 640x480 with 2 Axes>"
      ]
     },
     "metadata": {},
     "output_type": "display_data"
    }
   ],
   "source": [
    "fig, ax = plt.subplots(1,2)\n",
    "\n",
    "column_dict = {\n",
    "    'job_work_from_home': 'Work From Home?',\n",
    "    'job_no_degree_mention':'Degree Required?'\n",
    "}\n",
    "\n",
    "for i,(column, title) in enumerate(column_dict.items()):\n",
    "    #print (i, column, title)\n",
    "    ax[i].pie(df_anz[column].value_counts(), startangle = 90, autopct ='%1.1f%%', labels=['No', 'Yes'], colors = sns.color_palette(\"PuBu\"))\n",
    "    ax[i].set_title(title)\n",
    "plt.show()"
   ]
  },
  {
   "cell_type": "code",
   "execution_count": 18,
   "metadata": {},
   "outputs": [],
   "source": [
    "df_anz_cleaned = df_anz.copy()\n",
    "df_anz_cleaned['job_skills_cleaned'] = df_anz['job_skills'].apply(lambda x: x if isinstance(x, list) else [])"
   ]
  },
  {
   "cell_type": "code",
   "execution_count": 19,
   "metadata": {},
   "outputs": [
    {
     "name": "stderr",
     "output_type": "stream",
     "text": [
      "C:\\Users\\gayan\\AppData\\Local\\Temp\\ipykernel_20152\\1417497077.py:4: DeprecationWarning: The truth value of an empty array is ambiguous. Returning False, but in future this will result in an error. Use `array.size > 0` to check that an array is not empty.\n",
      "  if pd.notna(skill_list):\n"
     ]
    }
   ],
   "source": [
    "import ast\n",
    "\n",
    "def clean_list (skill_list):\n",
    "    if pd.notna(skill_list):\n",
    "        return ast.literal_eval(skill_list)\n",
    "    \n",
    "    \n",
    "df_anz_cleaned['job_skills_cleaned'] = df_anz_cleaned['job_skills_cleaned'].apply(clean_list)"
   ]
  },
  {
   "cell_type": "code",
   "execution_count": 27,
   "metadata": {},
   "outputs": [
    {
     "data": {
      "text/plain": [
       "str"
      ]
     },
     "execution_count": 27,
     "metadata": {},
     "output_type": "execute_result"
    }
   ],
   "source": [
    "type(df_anz_cleaned['job_skills'][2000])"
   ]
  },
  {
   "cell_type": "code",
   "execution_count": 26,
   "metadata": {},
   "outputs": [
    {
     "name": "stdout",
     "output_type": "stream",
     "text": [
      "object\n"
     ]
    }
   ],
   "source": [
    "print(df_anz_cleaned['job_skills'].dtype)"
   ]
  },
  {
   "cell_type": "code",
   "execution_count": 24,
   "metadata": {},
   "outputs": [
    {
     "name": "stdout",
     "output_type": "stream",
     "text": [
      "Number of non-list items in 'job_skills_cleaned': 15409\n"
     ]
    }
   ],
   "source": [
    "non_list_count = df_anz_cleaned['job_skills_cleaned'].apply(lambda x: not isinstance(x, list)).sum()\n",
    "\n",
    "print(f\"Number of non-list items in 'job_skills_cleaned': {non_list_count}\")"
   ]
  },
  {
   "cell_type": "code",
   "execution_count": 25,
   "metadata": {},
   "outputs": [
    {
     "name": "stdout",
     "output_type": "stream",
     "text": [
      "Are all non-list items None or NaN? False\n"
     ]
    }
   ],
   "source": [
    "# Filter for non-list items in 'job_skills'\n",
    "non_list_items = df_anz['job_skills'][~df_anz['job_skills'].apply(lambda x: isinstance(x, list))]\n",
    "\n",
    "# Check if all non-list items are None or NaN\n",
    "all_none_or_nan = non_list_items.apply(lambda x: pd.isna(x)).all()\n",
    "\n",
    "print(f\"Are all non-list items None or NaN? {all_none_or_nan}\")"
   ]
  },
  {
   "cell_type": "markdown",
   "metadata": {},
   "source": []
  }
 ],
 "metadata": {
  "kernelspec": {
   "display_name": "python_1",
   "language": "python",
   "name": "python3"
  },
  "language_info": {
   "codemirror_mode": {
    "name": "ipython",
    "version": 3
   },
   "file_extension": ".py",
   "mimetype": "text/x-python",
   "name": "python",
   "nbconvert_exporter": "python",
   "pygments_lexer": "ipython3",
   "version": "3.12.7"
  }
 },
 "nbformat": 4,
 "nbformat_minor": 2
}
